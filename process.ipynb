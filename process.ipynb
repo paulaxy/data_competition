{
 "cells": [
  {
   "cell_type": "code",
   "execution_count": 147,
   "metadata": {},
   "outputs": [],
   "source": [
    "import pandas as pd\n",
    "train_user = pd.read_csv(\"data/trainingset/train_base.csv\")\n",
    "train_op = pd.read_csv(\"data/trainingset/train_op.csv\")\n",
    "train_trans = pd.read_csv(\"data/trainingset/train_trans.csv\")\n",
    "train_label = pd.read_csv(\"data/trainingset/train_label.csv\")\n"
   ]
  },
  {
   "cell_type": "code",
   "execution_count": 148,
   "metadata": {},
   "outputs": [],
   "source": [
    "test_user = pd.read_csv(\"data/testingset/test_a_base.csv\")\n",
    "test_op = pd.read_csv(\"data/testingset/test_a_op.csv\")\n",
    "test_trans = pd.read_csv(\"data/testingset/test_a_trans.csv\")"
   ]
  },
  {
   "cell_type": "code",
   "execution_count": 149,
   "metadata": {},
   "outputs": [],
   "source": [
    "def factorize(data, cols):\n",
    "    '''\n",
    "    对类别变量进行onehot编码\n",
    "    '''\n",
    "    for col in cols:\n",
    "        dummy_col = pd.get_dummies(data[col], dummy_na=True, prefix=col + \"_\")\n",
    "        data = pd.merge(data,dummy_col,left_index=True, right_index=True)\n",
    "    data.drop(cols,axis=1,inplace=True)\n",
    "    return data\n",
    "\n",
    "def split_str_to_int(data, cols):\n",
    "    for col in cols:\n",
    "        data[col].fillna(\"catetory -1\", inplace=True)\n",
    "        data[col] = data[col].map(lambda x: int(x.split(\" \")[1]))\n",
    "        \n",
    "def minus_min(data, cols):\n",
    "    for col in cols:\n",
    "        min_value = data[col].min()\n",
    "        data[col] = data[col].map(lambda x: x - min_value)    "
   ]
  },
  {
   "cell_type": "code",
   "execution_count": 150,
   "metadata": {},
   "outputs": [],
   "source": [
    "def transform_feature(data):\n",
    "    copy_data = data.copy(deep=True)\n",
    "    copy_data = factorize(copy_data, factorize_cols)\n",
    "    split_str_to_int(copy_data, split_str_to_int_cols)\n",
    "    minus_min(copy_data,minus_min_cols)\n",
    "    return copy_data"
   ]
  },
  {
   "cell_type": "code",
   "execution_count": 151,
   "metadata": {},
   "outputs": [],
   "source": [
    "from sklearn.model_selection import KFold\n",
    "\n",
    "def kfold_predict(train_X, train_Y, test_X, max_iter=100):\n",
    "    scores = []\n",
    "    kf = KFold(n_splits=5)\n",
    "    kf.get_n_splits(train_X)\n",
    "    predict_Y = []\n",
    "    for train_index, test_index in kf.split(train_X):\n",
    "        X_train, X_test = train_X.loc[train_index], train_X.loc[test_index]\n",
    "        y_train, y_test = train_Y[train_index], train_Y[test_index]\n",
    "        model = LogisticRegression(max_iter=max_iter)\n",
    "        model.fit(X_train, y_train)\n",
    "        outcome = model.predict_proba(X_test)\n",
    "        score = roc_auc_score(y_test, outcome[:,1])\n",
    "        scores.append(score)\n",
    "        predict_Y.append(list(model.predict_proba(test_X)[:,1]))\n",
    "    y_pred = np.mean(np.array(predict_Y), axis=0)\n",
    "        \n",
    "    return np.mean(scores), y_pred\n",
    "        "
   ]
  },
  {
   "cell_type": "code",
   "execution_count": 154,
   "metadata": {},
   "outputs": [],
   "source": [
    "#未加入city in factorize_cols\n",
    "factorize_cols = [\"sex\", \"provider\", \"verified\", \"regist_type\", \"agreement1\", \"agreement2\", \"agreement3\", \\\n",
    "                  \"agreement4\", \"province\",\"service3\"]\n",
    "split_str_to_int_cols = [\"balance\", \"level\", \"balance_avg\", \"balance2\", \"balance2_avg\", \\\n",
    "                        \"service3_level\", \"product1_amount\", \"product2_amount\", \"product3_amount\", \\\n",
    "                        \"product4_amount\", \"product5_amount\", \"product6_amount\", \"balance1_avg\", \\\n",
    "                        \"balance1\"]\n",
    "minus_min_cols = [\"age\",\"card_a_cnt\",\"card_b_cnt\",\"card_c_cnt\",\"card_d_cnt\",\"op1_cnt\",\"op2_cnt\",\"agreement_total\",\\\n",
    "                 \"service1_cnt\",\"service1_amt\",\"service2_cnt\",\"acc_count\",\"login_cnt_period1\",\"login_cnt_period2\",\\\n",
    "                 \"ip_cnt\",\"login_cnt_avg\",\"login_days_cnt\",\"product7_cnt\",\"product7_fail_cnt\",\"using_time\"]"
   ]
  },
  {
   "cell_type": "code",
   "execution_count": 155,
   "metadata": {},
   "outputs": [],
   "source": [
    "transformed_train_user = transform_feature(train_user)\n",
    "transformed_test_user = transform_feature(test_user)\n",
    "# transformed_total_user_data = transform_feature(total_user_data)\n",
    "# transformed_train_data = transformed_total_user_data.iloc[:train_data_len,:]\n",
    "# transformed_test_data = transformed_total_user_data.iloc[train_data_len:,:]"
   ]
  },
  {
   "cell_type": "code",
   "execution_count": 156,
   "metadata": {},
   "outputs": [
    {
     "name": "stderr",
     "output_type": "stream",
     "text": [
      "/Users/feedliu/anaconda3/lib/python3.7/site-packages/sklearn/linear_model/logistic.py:433: FutureWarning: Default solver will be changed to 'lbfgs' in 0.22. Specify a solver to silence this warning.\n",
      "  FutureWarning)\n",
      "/Users/feedliu/anaconda3/lib/python3.7/site-packages/sklearn/linear_model/logistic.py:433: FutureWarning: Default solver will be changed to 'lbfgs' in 0.22. Specify a solver to silence this warning.\n",
      "  FutureWarning)\n",
      "/Users/feedliu/anaconda3/lib/python3.7/site-packages/sklearn/linear_model/logistic.py:433: FutureWarning: Default solver will be changed to 'lbfgs' in 0.22. Specify a solver to silence this warning.\n",
      "  FutureWarning)\n",
      "/Users/feedliu/anaconda3/lib/python3.7/site-packages/sklearn/linear_model/logistic.py:433: FutureWarning: Default solver will be changed to 'lbfgs' in 0.22. Specify a solver to silence this warning.\n",
      "  FutureWarning)\n",
      "/Users/feedliu/anaconda3/lib/python3.7/site-packages/sklearn/linear_model/logistic.py:433: FutureWarning: Default solver will be changed to 'lbfgs' in 0.22. Specify a solver to silence this warning.\n",
      "  FutureWarning)\n"
     ]
    },
    {
     "name": "stdout",
     "output_type": "stream",
     "text": [
      "0.6785898743196612\n"
     ]
    }
   ],
   "source": [
    "# 模型训练\n",
    "from sklearn.linear_model import LogisticRegression\n",
    "from sklearn.model_selection import train_test_split\n",
    "from sklearn.metrics import roc_auc_score\n",
    "import numpy as np\n",
    "\n",
    "final_input_data = pd.merge(transformed_train_user, train_label, on=\"user\", how=\"right\")\n",
    "\n",
    "input_cols = list(transformed_train_user.columns)\n",
    "input_cols.remove(\"user\")\n",
    "input_cols.remove(\"city\")\n",
    "# input_cols.remove(\"label\")\n",
    "\n",
    "train_Y = final_input_data[\"label\"]\n",
    "train_X = final_input_data[input_cols]\n",
    "\n",
    "test_X = transformed_test_user[input_cols]\n",
    "y_offline, y_pred = kfold_predict(train_X, train_Y, test_X, max_iter=100)\n",
    "print(y_offline)"
   ]
  },
  {
   "cell_type": "code",
   "execution_count": 157,
   "metadata": {},
   "outputs": [],
   "source": [
    "# 生成提交文件\n",
    "test_user[\"label\"] = pd.Series(y_pred)\n",
    "\n",
    "test_user[[\"user\", \"label\"]].to_csv(\"baseline4.csv\", header=[\"user\", \"prob\"], index=False)"
   ]
  }
 ],
 "metadata": {
  "kernelspec": {
   "display_name": "Python 3",
   "language": "python",
   "name": "python3"
  },
  "language_info": {
   "codemirror_mode": {
    "name": "ipython",
    "version": 3
   },
   "file_extension": ".py",
   "mimetype": "text/x-python",
   "name": "python",
   "nbconvert_exporter": "python",
   "pygments_lexer": "ipython3",
   "version": "3.7.1"
  }
 },
 "nbformat": 4,
 "nbformat_minor": 2
}
